{
 "cells": [
  {
   "cell_type": "code",
   "execution_count": 254,
   "metadata": {},
   "outputs": [],
   "source": [
    "import numpy as np\n",
    "import h5py\n",
    "import matplotlib.pyplot as plt\n",
    "#from mpl_toolkits.mplot3d.axes3d import get_test_data # for 3d plotting\n",
    "#import utils as ut # file containing a function to construct minibatches \n",
    "\n",
    "%matplotlib inline\n",
    "\n",
    "#np.random.seed(1)"
   ]
  },
  {
   "cell_type": "code",
   "execution_count": 255,
   "metadata": {},
   "outputs": [],
   "source": [
    "def relu( x ):\n",
    "    x = np.maximum(5,x)\n",
    "    return np.minimum( -5, x )\n",
    "#    return np.maximum(0,x)\n"
   ]
  },
  {
   "cell_type": "code",
   "execution_count": 256,
   "metadata": {},
   "outputs": [],
   "source": [
    "def drelu( x ):\n",
    "    return np.where( (x > -5) & (x < 5) , 1, 0 )\n",
    "#    return np.where(x>0, 1, 0)"
   ]
  },
  {
   "cell_type": "code",
   "execution_count": 257,
   "metadata": {},
   "outputs": [],
   "source": [
    "def trunC( x ):\n",
    "    x = np.maximum(-1000,x)\n",
    "    return np.minimum(1000, x)"
   ]
  },
  {
   "cell_type": "code",
   "execution_count": 258,
   "metadata": {},
   "outputs": [],
   "source": [
    "def dtrunC(x):\n",
    "    return np.where( (x > -1000) & (x < 1000) , 1, 0 )"
   ]
  },
  {
   "cell_type": "code",
   "execution_count": 259,
   "metadata": {},
   "outputs": [],
   "source": [
    "def initialize_parameters( n_y, n_n, num_layers):\n",
    "    \"\"\"\n",
    "    Arguments:\n",
    "    n_z -- the number of features in the input data\n",
    "    n_y -- the number of features of the output data\n",
    "    n_n -- number of neurons in each layer\n",
    "    L -- the number of layers\n",
    "    \n",
    "    Returns:\n",
    "    parameters -- python dictionary containing parameters \"C1\", \"W1\", \"B1\" \"b1\", ..., \"CL\", \"WL\", \"BL\", \"bL\":\n",
    "                    C -- weight matrix of shape (n_n, n_y, n_y)\n",
    "                    W -- weight matrix of shape (n_n, n_y, n_y)\n",
    "                    b -- bias vector of shape (n_n, n_y, 1)\n",
    "    \"\"\"\n",
    "    \n",
    "    norm = 10\n",
    "    \n",
    "    C = np.random.randn(n_n, n_y, 1, num_layers-1) * norm\n",
    "    W = np.random.randn(n_n, n_y, n_y, num_layers-1)* norm\n",
    "    b = np.random.randn(n_n, n_y, 1, num_layers-1)* norm\n",
    "        \n",
    "    return (C, W, b)"
   ]
  },
  {
   "cell_type": "code",
   "execution_count": 260,
   "metadata": {},
   "outputs": [],
   "source": [
    "def forward_propagation(z, C, W, b, num_layers, dt):\n",
    "    \"\"\"\n",
    "    Implement forward propagation for L layers (see formula for dX)\n",
    "    \n",
    "    Arguments:\n",
    "    z -- data, numpy array of shape (input size, number of examples)\n",
    "    parameters -- output of initialize_parameters()\n",
    "    L -- number of layers\n",
    "    dt -- parameter of gradient update rule\n",
    "    \n",
    "    Returns:\n",
    "    caches -- list of caches containing:\n",
    "                the output of the linear unit and of the nonlinear activation of every layer\n",
    "                (there are L-1 of them, indexed from 1 to L-1)\n",
    "    \"\"\"\n",
    "    \n",
    "    n_y = b.shape[ 1 ]\n",
    "    n_n = b.shape[ 0 ]\n",
    "    m = z.shape[1]\n",
    " \n",
    "    XA = np.zeros((n_y, m, num_layers))\n",
    "    XA[:,:, 0] = z\n",
    "    \n",
    "    \n",
    "    # Implement dX formula. Add \"cache\" to the \"caches\" list.\n",
    "    for l in range( num_layers - 1):\n",
    "        \n",
    "        LX = np.matmul( W[:,:,:, l], XA[:,:,l] ) + b[:,:,:,l] #  dim: nn,ny,m\n",
    "\n",
    "        dX = np.mean( trunC(C[:,:,:,l]) * relu( LX ) , axis = 0 ) * dt\n",
    "        \n",
    "        \n",
    "        XA[:,:,l+1] = dX + XA[:,:,l]\n",
    "        \n",
    "            \n",
    "    return XA"
   ]
  },
  {
   "cell_type": "code",
   "execution_count": 261,
   "metadata": {},
   "outputs": [],
   "source": [
    "def backward_propagation(XL, Y, XA, C, W, b, num_layers, dt, ds, lam, eps):\n",
    "    \"\"\"\n",
    "    Implement the backward propagation (see formulas for dtheta and dp)\n",
    "    \n",
    "    Arguments:\n",
    "    XL -- output of the forward propagation\n",
    "    Y -- true \"label\" vector (containing 0 if non-cat, 1 if cat)\n",
    "    caches -- list of caches \n",
    "                \n",
    "    \n",
    "    Returns:\n",
    "    parameters -- a dictionary of updated parameters\n",
    "    \n",
    "    \"\"\"\n",
    "    m = Y.shape[ 1 ]\n",
    "    n_y = Y.shape[ 0 ]\n",
    "    n_n = C.shape[ 0 ]\n",
    "    \n",
    "    # Initializing the backpropagation\n",
    "    P =  XA[:,:,num_layers-1 ] - Y \n",
    "    \n",
    "    # Creating the same delta W for all layers (i.e. all t)\n",
    "    C_noise = np.random.randn( n_n, n_y, 1 )\n",
    "    W_noise = np.random.randn( n_n, n_y, n_y )\n",
    "    b_noise = np.random.randn( n_n, n_y, 1 )\n",
    "    \n",
    "    # Loop from l=L-2 to l=0\n",
    "    for l in reversed(range(num_layers-1)):\n",
    "        X = XA[:,:, l ]                  #dimension: dy, m\n",
    "        \n",
    "        Cl = C[:,:,:, l]\n",
    "        Wl = W[:,:,:, l]\n",
    "        bl = b[:,:,:,l]\n",
    "\n",
    "        LX = np.matmul( Wl, X ) + bl       #dimension: n_n, d_y, m\n",
    "        AX = relu( LX )  \n",
    "        dAX = drelu( LX )\n",
    "        \n",
    "        # In the update rule for theta should one use P or P_prev?\n",
    "\n",
    "        BX = trunC(Cl) * dAX                   #dimension: n_n, d_y, m\n",
    "\n",
    "        \n",
    "        dC = (- lam * Cl - np.mean(AX * P, axis =2, keepdims = True)* dtrunC(Cl)) * ds + eps * np.sqrt(ds) * C_noise\n",
    "        C[:,:,:, l] = Cl + dC\n",
    "        \n",
    "                                   \n",
    "        dW = (- lam * Wl - np.matmul( BX * P , X.T ) / m) * ds + eps * np.sqrt(ds) * W_noise\n",
    "                                   \n",
    "        W[:,:,:, l] = Wl + dW\n",
    "           \n",
    "    \n",
    "        db = (- lam * bl - np.mean( BX * P, axis =2 , keepdims = True) ) * ds + eps * np.sqrt(ds) * b_noise\n",
    "        b[:,:,:, l] = bl + db\n",
    "        \n",
    "        temp = np.transpose(BX.reshape(1, n_n, n_y, m), axes = (0,3,1,2))\n",
    "        WW   = np.transpose(Wl.reshape(1, n_n, n_y, n_y), axes =(3,0,1,2))\n",
    "        \n",
    "        dP =   np.sum(np.mean(temp * WW, axis = 2) * P.T, axis = 2) * dt\n",
    "        P = P + dP                      #dimension: d_y, m\n",
    "                                   \n",
    "    return (C, W, b)"
   ]
  },
  {
   "cell_type": "code",
   "execution_count": 262,
   "metadata": {},
   "outputs": [],
   "source": [
    "def deep_nn_model(z, Y, num_layers, n_n, dt = 0.01, ds = 0.01, lam = 0.1, eps = 0.1, \n",
    "                  num_epochs = 1000, print_cost=True ):\n",
    "    \"\"\"\n",
    "    Implements a L-layer neural network.\n",
    "    \n",
    "    Arguments:\n",
    "    z -- data, numpy array of shape (number of features, number of examples)\n",
    "    Y -- true \"label\" vector, of shape (n_y, number of examples)\n",
    "    num_layers -- number of layers\n",
    "    n_n -- number of neurons in each layer\n",
    "    minibatch_size -- size of minibatch\n",
    "    dt -- parameter of the gradient update rule\n",
    "    lam -- parameter of the gradient update rule\n",
    "    eps -- parameter of the gradient update rule\n",
    "    num_iterations -- number of iterations of the optimization loop\n",
    "    print_cost -- if True, it prints the cost every 100 steps\n",
    "    \n",
    "    Returns:\n",
    "    parameters -- parameters learnt by the model. They can then be used to predict.\n",
    "    \"\"\"\n",
    "\n",
    "    #np.random.seed(1)\n",
    "    costs = []   # keep track of cost\n",
    "    Clvars =[]\n",
    "    \n",
    "    n_y = Y.shape[ 0 ]\n",
    "    \n",
    "    #seed = 1 # for constructing minibatches\n",
    "    \n",
    "    # Parameters initialization.\n",
    "    (C, W, b) = initialize_parameters( n_y, n_n, num_layers )\n",
    "    \n",
    "    it_num = 0\n",
    "    \n",
    "    # Loop (optimization)\n",
    "    for i in range(num_epochs):\n",
    "                \n",
    "        # Forward propagation.\n",
    "        XA = forward_propagation( z, C, W, b, num_layers, dt )\n",
    "            \n",
    "        XL = XA[:,:,num_layers-1]\n",
    "        \n",
    "        # Compute cost.\n",
    "        cost = np.mean( np.linalg.norm( Y - XL , ord = 2, axis = 0 ) ) / 2\n",
    "    \n",
    "        cost = np.squeeze(cost)  \n",
    "                \n",
    "        # Backward propagation.\n",
    "        (C, W, b) = backward_propagation( XL, Y, \n",
    "                                                  XA, C, W, b, num_layers, dt, ds, lam, eps )\n",
    "            \n",
    "        costs.append(cost)\n",
    "         \n",
    "        \n",
    "      \n",
    "        Clvars.append(np.squeeze(np.var(C[:,:,:,0], axis = 0)))\n",
    "            \n",
    "            \n",
    "        it_num = it_num + 1\n",
    "            \n",
    "        # Print the cost every 100 training example\n",
    "        if print_cost and it_num % 100 == 0:\n",
    "            print (\"Cost after iteration %i: %f\" %(it_num, cost))\n",
    "                \n",
    "\n",
    "\n",
    "\n",
    "        \n",
    "    \n",
    "            \n",
    "    # plot the cost\n",
    "    fig = plt.figure( figsize = (8,3) )\n",
    "    ax0 = fig.add_subplot( 1, 2, 1 )\n",
    "    ax0.plot(  costs  ) \n",
    "    ax0.set_ylabel('cost')\n",
    "    ax0.set_xlabel('iterations')\n",
    "    ax0.set_title(\"dt =\" + str(dt))\n",
    "    \n",
    "    fig = plt.figure( figsize = (8,3) )\n",
    "    plt.plot(Clvars)\n",
    "\n",
    "    \n",
    "    return (C, W, b)"
   ]
  },
  {
   "cell_type": "code",
   "execution_count": 263,
   "metadata": {},
   "outputs": [
    {
     "name": "stdout",
     "output_type": "stream",
     "text": [
      "Cost after iteration 100: 0.893168\n",
      "Cost after iteration 200: 0.897841\n",
      "Cost after iteration 300: 0.901511\n",
      "Cost after iteration 400: 0.896260\n",
      "Cost after iteration 500: 0.892735\n",
      "Cost after iteration 600: 0.914060\n",
      "Cost after iteration 700: 0.891450\n",
      "Cost after iteration 800: 0.906412\n",
      "Cost after iteration 900: 0.895133\n",
      "Cost after iteration 1000: 0.892779\n"
     ]
    },
    {
     "data": {
      "image/png": "[encoded data removed]",
      "text/plain": [
       "<Figure size 576x216 with 1 Axes>"
      ]
     },
     "metadata": {},
     "output_type": "display_data"
    },
    {
     "data": {
      "image/png": "[encoded data removed]",
      "text/plain": [
       "<Figure size 576x216 with 1 Axes>"
      ]
     },
     "metadata": {},
     "output_type": "display_data"
    }
   ],
   "source": [
    "#regression for a simple function: training errors\n",
    "\n",
    "#Z = np.random.exponential( 1, ( 1, 1000 ) )\n",
    "z =  np.linspace( 0 , 5.0, 12 )+np.random.randn(1,12)*0.2                 \n",
    "Y =  np.cos(z-2)\n",
    "\n",
    "\n",
    "\n",
    "num_layers =21\n",
    "dt =0.05\n",
    "n_n = 5\n",
    "\n",
    "(C, W, b) = deep_nn_model( z, Y, num_layers , n_n , dt , ds = 0.01, lam = 0.05, eps = 0.5, \n",
    "                  num_epochs = 1000 )\n"
   ]
  },
  {
   "cell_type": "code",
   "execution_count": 264,
   "metadata": {},
   "outputs": [
    {
     "data": {
      "text/plain": [
       "[<matplotlib.lines.Line2D at 0x116f0aeb8>]"
      ]
     },
     "execution_count": 264,
     "metadata": {},
     "output_type": "execute_result"
    },
    {
     "data": {
      "image/png": "[encoded data removed]",
      "text/plain": [
       "<Figure size 576x216 with 1 Axes>"
      ]
     },
     "metadata": {},
     "output_type": "display_data"
    }
   ],
   "source": [
    "F = forward_propagation(z, C, W, b,  num_layers = 21 , dt= 0.05)\n",
    "\n",
    "FL = F[:,:,-1]\n",
    "\n",
    "\n",
    "fig = plt.figure( figsize = (8,3) )\n",
    "ax0 = fig.add_subplot( 1, 2, 1 )\n",
    "ax0.plot(  np.squeeze(FL)  ) \n",
    "ax0.plot(np.squeeze(Y))"
   ]
  },
  {
   "cell_type": "code",
   "execution_count": 265,
   "metadata": {},
   "outputs": [
    {
     "name": "stdout",
     "output_type": "stream",
     "text": [
      "(2, 10000)\n"
     ]
    }
   ],
   "source": [
    "# Test on trigonometric functions\n",
    "z1 = np.linspace( -1.0 , 1.0, 100 )\n",
    "z2 = np.linspace( -1.0 , 1.0, 100 )\n",
    "\n",
    "Z1, Z2 = np.meshgrid( z1, z2 )\n",
    "Y = Z1*Z1 + Z2*Z2\n",
    "Y = Y.reshape( 1, 10000 )\n",
    "\n",
    "z = np.array( [ np.squeeze( Z1.reshape( 1, 10000 ) ), np.squeeze( Z2.reshape( 1, 10000 ) ) ] )\n",
    "print( z.shape )"
   ]
  },
  {
   "cell_type": "code",
   "execution_count": 266,
   "metadata": {},
   "outputs": [],
   "source": [
    "num_layers = 10"
   ]
  },
  {
   "cell_type": "code",
   "execution_count": 267,
   "metadata": {
    "scrolled": true
   },
   "outputs": [
    {
     "ename": "TypeError",
     "evalue": "deep_nn_model() got an unexpected keyword argument 'minibatch_size'",
     "output_type": "error",
     "traceback": [
      "\u001b[0;31m---------------------------------------------------------------------------\u001b[0m",
      "\u001b[0;31mTypeError\u001b[0m                                 Traceback (most recent call last)",
      "\u001b[0;32m<ipython-input-267-54c37e1bd9e2>\u001b[0m in \u001b[0;36m<module>\u001b[0;34m()\u001b[0m\n\u001b[0;32m----> 1\u001b[0;31m \u001b[0mparameters\u001b[0m \u001b[0;34m=\u001b[0m \u001b[0mdeep_nn_model\u001b[0m\u001b[0;34m(\u001b[0m \u001b[0mz\u001b[0m\u001b[0;34m,\u001b[0m \u001b[0mY\u001b[0m\u001b[0;34m,\u001b[0m \u001b[0mnum_layers\u001b[0m\u001b[0;34m,\u001b[0m \u001b[0mn_n\u001b[0m \u001b[0;34m=\u001b[0m \u001b[0;36m10\u001b[0m\u001b[0;34m,\u001b[0m \u001b[0mminibatch_size\u001b[0m \u001b[0;34m=\u001b[0m \u001b[0;36m32\u001b[0m\u001b[0;34m,\u001b[0m \u001b[0mnum_epochs\u001b[0m \u001b[0;34m=\u001b[0m \u001b[0;36m100\u001b[0m \u001b[0;34m)\u001b[0m\u001b[0;34m\u001b[0m\u001b[0m\n\u001b[0m",
      "\u001b[0;31mTypeError\u001b[0m: deep_nn_model() got an unexpected keyword argument 'minibatch_size'"
     ]
    }
   ],
   "source": [
    "parameters = deep_nn_model( z, Y, num_layers, n_n = 10, minibatch_size = 32, num_epochs = 100 )"
   ]
  },
  {
   "cell_type": "code",
   "execution_count": null,
   "metadata": {},
   "outputs": [],
   "source": [
    "# Test on MNIST\n",
    "from mlxtend.data import loadlocal_mnist\n",
    "\n",
    "z, y = loadlocal_mnist(\n",
    "        images_path='MNIST/train-images-idx3-ubyte', \n",
    "        labels_path='MNIST/train-labels-idx1-ubyte')"
   ]
  },
  {
   "cell_type": "code",
   "execution_count": null,
   "metadata": {},
   "outputs": [],
   "source": [
    "print( z.shape )\n",
    "print( y.shape )"
   ]
  },
  {
   "cell_type": "code",
   "execution_count": null,
   "metadata": {},
   "outputs": [],
   "source": [
    "z_train = z * 1.0 / 255.0\n",
    "z_train = z_train.T"
   ]
  },
  {
   "cell_type": "code",
   "execution_count": null,
   "metadata": {},
   "outputs": [],
   "source": [
    "from sklearn.preprocessing import OneHotEncoder\n",
    "\n",
    "enc = OneHotEncoder( sparse = False )\n",
    "y_train = y.reshape( 60000, 1 )\n",
    "y_train = enc.fit_transform( y_train )\n",
    "y_train = y_train.T"
   ]
  },
  {
   "cell_type": "code",
   "execution_count": null,
   "metadata": {},
   "outputs": [],
   "source": [
    "parameters = deep_nn_model( z_train, y_train, num_layers = 10, n_n = 5, \n",
    "                           minibatch_size = 512, dt = 0.01, num_epochs = ( 1400 // (60000 // 512) + 1 ) )"
   ]
  },
  {
   "cell_type": "code",
   "execution_count": null,
   "metadata": {},
   "outputs": [],
   "source": [
    "parameters = deep_nn_model( z_train, y_train, num_layers = 10, n_n = 5, \n",
    "                           minibatch_size = 512, dt = 0.5, lam = 0.0001, eps = 0.01, num_epochs = ( \n",
    "                               1400 // (60000 // 512) + 1 ) )"
   ]
  },
  {
   "cell_type": "code",
   "execution_count": null,
   "metadata": {},
   "outputs": [],
   "source": [
    "parameters = deep_nn_model( z_train, y_train, num_layers = 10, n_n = 5, \n",
    "                           minibatch_size = 512, dt = 1, lam = 0.0001, eps = 0.01, num_epochs = ( \n",
    "                               1400 // (60000 // 512) + 1 ) )"
   ]
  },
  {
   "cell_type": "code",
   "execution_count": null,
   "metadata": {},
   "outputs": [],
   "source": [
    "parameters = deep_nn_model( z_train, y_train, num_layers = 2, n_n = 5, \n",
    "                           minibatch_size = 512, dt = 1, lam = 0.0001, eps = 0.01, num_epochs = ( \n",
    "                               1400 // (60000 // 512) + 1 ) )"
   ]
  },
  {
   "cell_type": "code",
   "execution_count": null,
   "metadata": {},
   "outputs": [],
   "source": [
    "parameters = deep_nn_model( z_train, y_train, num_layers = 150, n_n = 5, \n",
    "                           minibatch_size = 512, dt = 0.01, lam = 0.0001, eps = 0.01, num_epochs = ( \n",
    "                               1400 // (60000 // 512) + 1 ) )"
   ]
  },
  {
   "cell_type": "code",
   "execution_count": null,
   "metadata": {},
   "outputs": [],
   "source": [
    "parameters = deep_nn_model( z_train, y_train, num_layers = 10, n_n = 5, \n",
    "                           minibatch_size = 512, dt = 0.01, lam = 0.0001, eps = 0.01, num_epochs = ( \n",
    "                               1400 // (60000 // 512) + 1 ) )"
   ]
  },
  {
   "cell_type": "code",
   "execution_count": null,
   "metadata": {},
   "outputs": [],
   "source": [
    "parameters = deep_nn_model( z_train, y_train, num_layers = 30, n_n = 5, \n",
    "                           minibatch_size = 512, dt = 1, lam = 0.0001, eps = 0.01, num_epochs = ( \n",
    "                               1400 // (60000 // 512) + 1 ) )"
   ]
  },
  {
   "cell_type": "code",
   "execution_count": null,
   "metadata": {},
   "outputs": [],
   "source": [
    "parameters = deep_nn_model( z_train, y_train, num_layers = 30, n_n = 5, \n",
    "                           minibatch_size = 512, dt = 0.1, lam = 0.0001, eps = 0.01, num_epochs = ( \n",
    "                               1400 // (60000 // 512) + 1 ) )"
   ]
  },
  {
   "cell_type": "code",
   "execution_count": null,
   "metadata": {},
   "outputs": [],
   "source": []
  }
 ],
 "metadata": {
  "kernelspec": {
   "display_name": "Python 3",
   "language": "python",
   "name": "python3"
  },
  "language_info": {
   "codemirror_mode": {
    "name": "ipython",
    "version": 3
   },
   "file_extension": ".py",
   "mimetype": "text/x-python",
   "name": "python",
   "nbconvert_exporter": "python",
   "pygments_lexer": "ipython3",
   "version": "3.6.4"
  }
 },
 "nbformat": 4,
 "nbformat_minor": 2
}
