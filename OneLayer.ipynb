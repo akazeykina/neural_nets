{
 "cells": [
  {
   "cell_type": "code",
   "execution_count": 1,
   "metadata": {},
   "outputs": [],
   "source": [
    "import numpy as np\n",
    "import h5py\n",
    "import matplotlib.pyplot as plt\n",
    "import time\n",
    "\n",
    "\n",
    "%matplotlib inline"
   ]
  },
  {
   "cell_type": "code",
   "execution_count": 2,
   "metadata": {},
   "outputs": [],
   "source": [
    "def relu( x ):\n",
    "    x = np.maximum(0,x)\n",
    "    return np.minimum( 10, x )\n",
    "#    return np.maximum(0,x)"
   ]
  },
  {
   "cell_type": "code",
   "execution_count": 3,
   "metadata": {},
   "outputs": [],
   "source": [
    "def drelu( x ):\n",
    "    return np.where( (x > 0) & (x < 10) , 1, 0 )\n",
    "#    return np.where(x>0, 1, 0)"
   ]
  },
  {
   "cell_type": "code",
   "execution_count": 4,
   "metadata": {},
   "outputs": [],
   "source": [
    "def trunC( x ):\n",
    "    x = np.maximum(-10,x)\n",
    "    return np.minimum(10, x)"
   ]
  },
  {
   "cell_type": "code",
   "execution_count": 5,
   "metadata": {},
   "outputs": [],
   "source": [
    "def dtrunC(x):\n",
    "    return np.where( (x > -10) & (x < 10) , 1, 0 )"
   ]
  },
  {
   "cell_type": "code",
   "execution_count": 6,
   "metadata": {},
   "outputs": [],
   "source": [
    "def initialize_parameters( d_z, d_y, n_n ):\n",
    "    \"\"\"\n",
    "    Arguments:\n",
    "    n_y -- the number of features in the data\n",
    "    n_n -- the number of neurons (number of samples of nu)\n",
    "    \n",
    "    Returns:\n",
    "    parameters -- python dictionary containing parameters \"C\", \"W\", \"b\"\n",
    "                    C -- weight matrix of shape (n_n, 1, n_y)\n",
    "                    W -- weight matrix of shape (n_n, n_y, n_y)\n",
    "                    b -- bias vector of shape (n_n, n_y, 1)\n",
    "    \"\"\"\n",
    "    \n",
    "\n",
    "    C = np.random.randn( n_n, d_y , 1) *20\n",
    "    W = np.random.randn( n_n, d_y , d_z) *20\n",
    "    b = np.random.randn( n_n, d_y , 1)   *20\n",
    "\n",
    "        \n",
    "    return ( C, W, b )"
   ]
  },
  {
   "cell_type": "code",
   "execution_count": 7,
   "metadata": {},
   "outputs": [],
   "source": [
    "def forward_propagation( C, W, b, Z, Y, dt, lam, sigma ):\n",
    "    \"\"\"\n",
    "    Implement forward propagation (see formulas for dX, dTheta)\n",
    "    \n",
    "    Arguments:\n",
    "    parameters -- current value of Theta = ( C, W, b )\n",
    "    Z -- data, array of size ( d_z, n_z )\n",
    "    Y -- label, array of size ( d_y, n_z)\n",
    "    dt, lam, sigma -- parameters of gradient update rule\n",
    "    \n",
    "    Returns:\n",
    "\n",
    "    parameters -- updated value of parameter Theta\n",
    "    \"\"\"\n",
    "    \n",
    "    (d_z, n_z) = Z.shape\n",
    "    d_y = Y.shape[ 0 ]\n",
    "    n_n = C.shape[ 0 ]\n",
    "        \n",
    "    \n",
    "    LZ = np.matmul( W, Z ) + b       #dimension: n_n, d_y, n_z\n",
    "    AZ = relu( LZ )  \n",
    "    RZ = np.mean(AZ * trunC(C) , axis=0)\n",
    "    dAZ = drelu( LZ )\n",
    "    BZ = trunC(C) * dAZ\n",
    "    \n",
    "    \n",
    "    diff =  RZ  - Y       # dimension:  d_y, n_z\n",
    "\n",
    "    \n",
    "#    diff = diff + np.where(RZ>1, 0.5, 0) + np.where(RZ<-1,-0.5,0)\n",
    "        \n",
    "#    diff =   diff.reshape(1, d_y, n_z)\n",
    "    \n",
    "    # Implement dTheta formula\n",
    "    dc_dF_dnu = np.mean( AZ * diff, axis = 2, keepdims = True ) * dtrunC(C)         # dimension:  n_n, d_y, 1\n",
    "    \n",
    "    dw_dF_dnu = np.matmul(BZ * diff, Z.T)/n_z               # dimension:  n_n, d_y, d_z\n",
    "    db_dF_dnu = np.mean( BZ * diff , axis = 2, keepdims = True )        # dimension:  n_n, d_y, 1\n",
    "    \n",
    "    dC = - ( dc_dF_dnu + lam * C ) * dt + sigma * np.sqrt(dt) * np.random.randn( n_n, d_y, 1 ) \n",
    "    C += dC\n",
    "    \n",
    "    dW = - ( dw_dF_dnu + lam * W ) * dt + sigma * np.sqrt(dt) * np.random.randn( n_n, d_y, d_z )\n",
    "    W += dW\n",
    "    \n",
    "    db = - ( db_dF_dnu + lam * b ) * dt + sigma * np.sqrt(dt) * np.random.randn( n_n, d_y, 1 )\n",
    "    b += db\n",
    "    \n",
    "    \n",
    "    cost = np.linalg.norm( diff , axis = 0)\n",
    "    \n",
    "    cost = np.mean(cost * cost)/2\n",
    "    \n",
    "    cost = np.squeeze(cost)      # To make sure cost's shape is what we expect (e.g. this turns [[17]] into 17).\n",
    "    \n",
    "    return (cost, C, W, b)"
   ]
  },
  {
   "cell_type": "code",
   "execution_count": 8,
   "metadata": {},
   "outputs": [],
   "source": [
    "def nn_model(Z, Y, n_n, minibatch_size = 32, dt = 0.1, lam = 0.01, sigma = 0.01, \n",
    "                  num_epochs = 1000, print_cost = False):\n",
    "    \"\"\"\n",
    "    Implements a 1-layer neural network.\n",
    "    \n",
    "    Arguments:\n",
    "    Z -- data, samples of the distribution mu_star, numpy array of shape (n_y, n_z)\n",
    "    n_n -- number of neurons in each layer (number of samples of distribution nu)\n",
    "    n_x -- number of samples of the distribution mu\n",
    "    minibatch_size -- size of minibatch\n",
    "    dt -- parameter of the gradient update rule\n",
    "    lam -- parameter of the gradient update rule\n",
    "    eps -- parameter of the gradient update rule\n",
    "    sigma -- parameters of the gradient update rule\n",
    "    num_epochs -- number of epochs of the optimization loop\n",
    "    print_cost -- if True, it prints the cost every 100 steps\n",
    "    \n",
    "    Returns:\n",
    "    parameters -- parameters learned by the model. They can then be used to predict.\n",
    "    costs -- list of costs F calculated at each iteration of the optimization loop\n",
    "    X -- samples of the learned distribution mu, array of size ( n_y, n_x ) \n",
    "    \"\"\"\n",
    "\n",
    "    tic = time.time()\n",
    "    #np.random.seed(1)\n",
    "    costs = []   # keep track of cost\n",
    "    \n",
    "    #seed = 1 \n",
    "    \n",
    "    ( d_z , n_z ) = Z.shape\n",
    "    \n",
    "    d_y = Y.shape[0]\n",
    "    \n",
    "    \n",
    "    #seed = 1 # for constructing minibatches\n",
    "    \n",
    "    # Parameters initialization.\n",
    "    (C, W, b) = initialize_parameters( d_z, d_y, n_n )\n",
    "    \n",
    "    diff_vars = []\n",
    "    \n",
    "    N_batch = np.floor(n_z/minibatch_size) \n",
    "    \n",
    "    cost_mini = np.zeros(int(N_batch))\n",
    "    \n",
    "    # Loop (optimization)\n",
    "    for i in range(0, num_epochs): \n",
    "        \n",
    "        for j in range(0, int(N_batch)):\n",
    "            \n",
    "            mini_Z = Z[:, (j*minibatch_size) : ((j+1)*minibatch_size) ]\n",
    "            mini_Y = Y[:, (j*minibatch_size) : ((j+1)*minibatch_size) ]\n",
    "            \n",
    "            # Forward propagation.\n",
    "            (cum_cost, C, W, b)  = forward_propagation( C, W, b, mini_Z, mini_Y, dt, lam, sigma )\n",
    "            cost_mini[j] = cum_cost\n",
    "            diff_vars.append(np.var(b , axis=0))\n",
    "               \n",
    "        costs.append(np.mean(cost_mini))\n",
    "        \n",
    "        if print_cost:\n",
    "            print (\"Cost after epoch %i: %f\" %(i, costs[i]))\n",
    "            \n",
    "   \n",
    "\n",
    "\n",
    "    print(time.time() - tic)\n",
    "\n",
    "\n",
    "    plt.plot(np.squeeze(costs))\n",
    "    plt.plot(np.squeeze(diff_vars),'brown')\n",
    "    return ( C, W, b, costs)"
   ]
  },
  {
   "cell_type": "code",
   "execution_count": 9,
   "metadata": {},
   "outputs": [
    {
     "name": "stdout",
     "output_type": "stream",
     "text": [
      "1.397939920425415\n"
     ]
    },
    {
     "data": {
      "image/png": "[encoded data removed]",
      "text/plain": [
       "<Figure size 432x288 with 1 Axes>"
      ]
     },
     "metadata": {},
     "output_type": "display_data"
    }
   ],
   "source": [
    "#regression for a simple function: training errors\n",
    "\n",
    "#Z = np.random.exponential( 1, ( 1, 1000 ) )\n",
    "Z =  np.linspace( 0 , 5.0, 12 )+np.random.randn(1,12)*0.2                 \n",
    "Y =  np.cos(Z-2)\n",
    "(C, W, b, costs) = nn_model( Z, Y, n_n = 100, minibatch_size = 12, dt =0.01, lam = 0.1, sigma = 0.5, num_epochs =5000)"
   ]
  },
  {
   "cell_type": "code",
   "execution_count": 10,
   "metadata": {},
   "outputs": [
    {
     "name": "stdout",
     "output_type": "stream",
     "text": [
      "(1, 12)\n"
     ]
    },
    {
     "data": {
      "text/plain": [
       "[<matplotlib.lines.Line2D at 0x117413780>]"
      ]
     },
     "execution_count": 10,
     "metadata": {},
     "output_type": "execute_result"
    },
    {
     "data": {
      "image/png": "[encoded data removed]",
      "text/plain": [
       "<Figure size 432x288 with 1 Axes>"
      ]
     },
     "metadata": {},
     "output_type": "display_data"
    }
   ],
   "source": [
    "    #initial function and regression result\n",
    "    \n",
    "    LZ = np.matmul( W, Z ) + b       #dimension: n_n, d_y, n_z\n",
    "    AZ = relu( LZ )\n",
    "    \n",
    "    F = np.mean(  AZ * trunC(C) , axis=0)\n",
    "    print(F.shape)\n",
    "    plt.plot(np.squeeze(F))\n",
    "    plt.plot(np.squeeze(Y))"
   ]
  },
  {
   "cell_type": "code",
   "execution_count": 11,
   "metadata": {},
   "outputs": [
    {
     "data": {
      "text/plain": [
       "(5, 3, 3)"
      ]
     },
     "execution_count": 11,
     "metadata": {},
     "output_type": "execute_result"
    }
   ],
   "source": [
    "a = np.arange(60.).reshape(5,3,4)\n",
    "b = np.arange(60.).reshape(5,4,3)\n",
    "c = np.matmul(a,b)\n",
    "c.shape"
   ]
  },
  {
   "cell_type": "code",
   "execution_count": 12,
   "metadata": {},
   "outputs": [
    {
     "ename": "IndexError",
     "evalue": "index 5000 is out of bounds for axis 1 with size 1",
     "output_type": "error",
     "traceback": [
      "\u001b[0;31m---------------------------------------------------------------------------\u001b[0m",
      "\u001b[0;31mIndexError\u001b[0m                                Traceback (most recent call last)",
      "\u001b[0;32m<ipython-input-12-a9ff4879054b>\u001b[0m in \u001b[0;36m<module>\u001b[0;34m()\u001b[0m\n\u001b[1;32m      2\u001b[0m \u001b[0;34m\u001b[0m\u001b[0m\n\u001b[1;32m      3\u001b[0m \u001b[0ma\u001b[0m \u001b[0;34m=\u001b[0m \u001b[0mZ\u001b[0m\u001b[0;34m.\u001b[0m\u001b[0mT\u001b[0m\u001b[0;34m\u001b[0m\u001b[0m\n\u001b[0;32m----> 4\u001b[0;31m \u001b[0mLZ\u001b[0m \u001b[0;34m=\u001b[0m \u001b[0mnp\u001b[0m\u001b[0;34m.\u001b[0m\u001b[0mmatmul\u001b[0m\u001b[0;34m(\u001b[0m \u001b[0mW\u001b[0m\u001b[0;34m,\u001b[0m \u001b[0ma\u001b[0m\u001b[0;34m[\u001b[0m\u001b[0;34m:\u001b[0m\u001b[0;34m,\u001b[0m\u001b[0mn\u001b[0m\u001b[0;34m]\u001b[0m \u001b[0;34m)\u001b[0m\u001b[0;34m\u001b[0m\u001b[0m\n\u001b[0m\u001b[1;32m      5\u001b[0m \u001b[0mLZ\u001b[0m \u001b[0;34m=\u001b[0m \u001b[0mLZ\u001b[0m\u001b[0;34m+\u001b[0m \u001b[0mb\u001b[0m\u001b[0;34m.\u001b[0m\u001b[0mreshape\u001b[0m\u001b[0;34m(\u001b[0m\u001b[0;36m50\u001b[0m\u001b[0;34m,\u001b[0m\u001b[0;36m10\u001b[0m\u001b[0;34m)\u001b[0m       \u001b[0;31m#dimension: n_n, d_y, n_z\u001b[0m\u001b[0;34m\u001b[0m\u001b[0m\n\u001b[1;32m      6\u001b[0m \u001b[0mAZ\u001b[0m \u001b[0;34m=\u001b[0m \u001b[0mrelu\u001b[0m\u001b[0;34m(\u001b[0m \u001b[0mLZ\u001b[0m \u001b[0;34m)\u001b[0m\u001b[0;34m\u001b[0m\u001b[0m\n",
      "\u001b[0;31mIndexError\u001b[0m: index 5000 is out of bounds for axis 1 with size 1"
     ]
    }
   ],
   "source": [
    "n=5000\n",
    "\n",
    "a = Z.T\n",
    "LZ = np.matmul( W, a[:,n] ) \n",
    "LZ = LZ+ b.reshape(50,10)       #dimension: n_n, d_y, n_z\n",
    "AZ = relu( LZ )\n",
    "F = np.mean(  AZ * C.reshape(50,10) , axis=0)\n",
    "plt.plot(np.squeeze(F))\n",
    "print(Y[n,:])"
   ]
  },
  {
   "cell_type": "code",
   "execution_count": null,
   "metadata": {},
   "outputs": [],
   "source": [
    "print(np.mod(3,2))"
   ]
  },
  {
   "cell_type": "code",
   "execution_count": null,
   "metadata": {},
   "outputs": [],
   "source": []
  }
 ],
 "metadata": {
  "kernelspec": {
   "display_name": "Python 3",
   "language": "python",
   "name": "python3"
  },
  "language_info": {
   "codemirror_mode": {
    "name": "ipython",
    "version": 3
   },
   "file_extension": ".py",
   "mimetype": "text/x-python",
   "name": "python",
   "nbconvert_exporter": "python",
   "pygments_lexer": "ipython3",
   "version": "3.6.4"
  }
 },
 "nbformat": 4,
 "nbformat_minor": 2
}
